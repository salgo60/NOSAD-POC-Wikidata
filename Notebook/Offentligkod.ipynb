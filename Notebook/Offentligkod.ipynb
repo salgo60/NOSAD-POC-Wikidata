{
 "cells": [
  {
   "cell_type": "markdown",
   "id": "302d111b-5d12-477b-a4cc-48bb9be35690",
   "metadata": {},
   "source": [
    "### Offentlik kod\n",
    "\n",
    "https://offentligkod.se/api/"
   ]
  },
  {
   "cell_type": "code",
   "execution_count": 5,
   "id": "610f681f-2c52-4c86-a948-94db85c83986",
   "metadata": {},
   "outputs": [
    {
     "name": "stdout",
     "output_type": "stream",
     "text": [
      "Unique users have been exported to unique_users.csv\n"
     ]
    }
   ],
   "source": [
    "import pandas as pd\n",
    "import requests\n",
    "\n",
    "# API URL\n",
    "url = \"https://offentligkod.se/api/\"\n",
    "\n",
    "# Fetch data from the API\n",
    "response = requests.get(url)\n",
    "\n",
    "# Check if the request was successful\n",
    "if response.status_code == 200:\n",
    "    data = response.json()  # Parse JSON data\n",
    "else:\n",
    "    print(f\"Failed to fetch data. Status code: {response.status_code}\")\n",
    "    exit()\n",
    "\n",
    "# Extract users from the \"katalog\"\n",
    "unique_users = []\n",
    "for item in data.get(\"katalog\", []):\n",
    "    for user in item.get(\"user\", []):\n",
    "        unique_users.append({\"Name\": user[\"name\"], \"ID\": user[\"id\"]})\n",
    "\n",
    "# Convert to a Pandas DataFrame\n",
    "df = pd.DataFrame(unique_users).drop_duplicates()\n",
    "\n",
    "# Export to CSV\n",
    "csv_file = \"unique_users.csv\"\n",
    "df.to_csv(csv_file, index=False, encoding=\"utf-8\")\n",
    "\n",
    "print(f\"Unique users have been exported to {csv_file}\")\n"
   ]
  },
  {
   "cell_type": "code",
   "execution_count": 6,
   "id": "6f1aea3d-46ac-4123-94e6-5e4bad16c5a8",
   "metadata": {},
   "outputs": [
    {
     "name": "stdout",
     "output_type": "stream",
     "text": [
      "<class 'pandas.core.frame.DataFrame'>\n",
      "Index: 95 entries, 0 to 266\n",
      "Data columns (total 2 columns):\n",
      " #   Column  Non-Null Count  Dtype \n",
      "---  ------  --------------  ----- \n",
      " 0   Name    95 non-null     object\n",
      " 1   ID      95 non-null     object\n",
      "dtypes: object(2)\n",
      "memory usage: 2.2+ KB\n"
     ]
    }
   ],
   "source": [
    "df.info()"
   ]
  },
  {
   "cell_type": "code",
   "execution_count": 7,
   "id": "36b3444d-677b-4039-94ed-dda2756f80ec",
   "metadata": {},
   "outputs": [
    {
     "data": {
      "text/html": [
       "<div>\n",
       "<style scoped>\n",
       "    .dataframe tbody tr th:only-of-type {\n",
       "        vertical-align: middle;\n",
       "    }\n",
       "\n",
       "    .dataframe tbody tr th {\n",
       "        vertical-align: top;\n",
       "    }\n",
       "\n",
       "    .dataframe thead th {\n",
       "        text-align: right;\n",
       "    }\n",
       "</style>\n",
       "<table border=\"1\" class=\"dataframe\">\n",
       "  <thead>\n",
       "    <tr style=\"text-align: right;\">\n",
       "      <th></th>\n",
       "      <th>Name</th>\n",
       "      <th>ID</th>\n",
       "    </tr>\n",
       "  </thead>\n",
       "  <tbody>\n",
       "    <tr>\n",
       "      <th>0</th>\n",
       "      <td>Open Knowledge Sverige</td>\n",
       "      <td>openknowledgesweden</td>\n",
       "    </tr>\n",
       "    <tr>\n",
       "      <th>1</th>\n",
       "      <td>Alingsås kommun</td>\n",
       "      <td>alingsas_k</td>\n",
       "    </tr>\n",
       "    <tr>\n",
       "      <th>2</th>\n",
       "      <td>Region Västra Götaland</td>\n",
       "      <td>vgr_r</td>\n",
       "    </tr>\n",
       "    <tr>\n",
       "      <th>3</th>\n",
       "      <td>Havs- och Vattenmyndigheten</td>\n",
       "      <td>havochvatten</td>\n",
       "    </tr>\n",
       "    <tr>\n",
       "      <th>4</th>\n",
       "      <td>Sveriges meteorologiska och hydrologiska institut</td>\n",
       "      <td>smhi</td>\n",
       "    </tr>\n",
       "    <tr>\n",
       "      <th>...</th>\n",
       "      <td>...</td>\n",
       "      <td>...</td>\n",
       "    </tr>\n",
       "    <tr>\n",
       "      <th>247</th>\n",
       "      <td>Stockholms universitet</td>\n",
       "      <td>su_uh</td>\n",
       "    </tr>\n",
       "    <tr>\n",
       "      <th>257</th>\n",
       "      <td>Västtrafik</td>\n",
       "      <td>vtrafik</td>\n",
       "    </tr>\n",
       "    <tr>\n",
       "      <th>259</th>\n",
       "      <td>Centrala studiestödsnämnden</td>\n",
       "      <td>csn</td>\n",
       "    </tr>\n",
       "    <tr>\n",
       "      <th>262</th>\n",
       "      <td>Kronofogden</td>\n",
       "      <td>kronofogden</td>\n",
       "    </tr>\n",
       "    <tr>\n",
       "      <th>266</th>\n",
       "      <td>Tillväxtverket</td>\n",
       "      <td>tillvaxtverket</td>\n",
       "    </tr>\n",
       "  </tbody>\n",
       "</table>\n",
       "<p>95 rows × 2 columns</p>\n",
       "</div>"
      ],
      "text/plain": [
       "                                                  Name                   ID\n",
       "0                               Open Knowledge Sverige  openknowledgesweden\n",
       "1                                      Alingsås kommun           alingsas_k\n",
       "2                               Region Västra Götaland                vgr_r\n",
       "3                          Havs- och Vattenmyndigheten         havochvatten\n",
       "4    Sveriges meteorologiska och hydrologiska institut                 smhi\n",
       "..                                                 ...                  ...\n",
       "247                             Stockholms universitet                su_uh\n",
       "257                                         Västtrafik              vtrafik\n",
       "259                        Centrala studiestödsnämnden                  csn\n",
       "262                                        Kronofogden          kronofogden\n",
       "266                                     Tillväxtverket       tillvaxtverket\n",
       "\n",
       "[95 rows x 2 columns]"
      ]
     },
     "execution_count": 7,
     "metadata": {},
     "output_type": "execute_result"
    }
   ],
   "source": [
    "df"
   ]
  },
  {
   "cell_type": "code",
   "execution_count": null,
   "id": "ccda013a-4620-4a09-aeb6-cdd5b9de0bcd",
   "metadata": {},
   "outputs": [],
   "source": []
  }
 ],
 "metadata": {
  "kernelspec": {
   "display_name": "Python 3 (ipykernel)",
   "language": "python",
   "name": "python3"
  },
  "language_info": {
   "codemirror_mode": {
    "name": "ipython",
    "version": 3
   },
   "file_extension": ".py",
   "mimetype": "text/x-python",
   "name": "python",
   "nbconvert_exporter": "python",
   "pygments_lexer": "ipython3",
   "version": "3.12.2"
  }
 },
 "nbformat": 4,
 "nbformat_minor": 5
}
